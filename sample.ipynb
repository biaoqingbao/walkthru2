{
 "cells": [
  {
   "cell_type": "markdown",
   "id": "adedf5bc-ef58-4f24-aa2e-0c53f3c76836",
   "metadata": {},
   "source": [
    "# hello\n",
    "# "
   ]
  },
  {
   "cell_type": "markdown",
   "id": "2728e684-42f9-4ef2-afcc-e30eba460d49",
   "metadata": {},
   "source": [
    "Here is how I calculate`1+1`\n"
   ]
  },
  {
   "cell_type": "code",
   "execution_count": 4,
   "id": "37f8b5b8-ec7b-445a-96d5-ba94ec2ebd01",
   "metadata": {},
   "outputs": [
    {
     "data": {
      "text/plain": [
       "2"
      ]
     },
     "execution_count": 4,
     "metadata": {},
     "output_type": "execute_result"
    }
   ],
   "source": [
    "1+1"
   ]
  },
  {
   "cell_type": "code",
   "execution_count": 6,
   "id": "be575ec7-cf92-4367-8963-b2e34d065379",
   "metadata": {},
   "outputs": [],
   "source": [
    "from numpy import *"
   ]
  },
  {
   "cell_type": "markdown",
   "id": "f3bd99f2-a17a-4b6a-8053-98cb036d8d51",
   "metadata": {},
   "source": [
    "here is how i calcuate`sin`"
   ]
  },
  {
   "cell_type": "code",
   "execution_count": null,
   "id": "24731115-2213-42b7-bea4-8ffa0ca2f4ac",
   "metadata": {},
   "outputs": [],
   "source": [
    "a = array()"
   ]
  },
  {
   "cell_type": "code",
   "execution_count": null,
   "id": "2905f650-f42a-4ec8-aadc-05dacd33d35b",
   "metadata": {},
   "outputs": [],
   "source": []
  },
  {
   "cell_type": "code",
   "execution_count": null,
   "id": "d7266995-e863-46f7-9776-5629ff4339c5",
   "metadata": {},
   "outputs": [],
   "source": []
  }
 ],
 "metadata": {
  "kernelspec": {
   "display_name": "Python 3 (ipykernel)",
   "language": "python",
   "name": "python3"
  },
  "language_info": {
   "codemirror_mode": {
    "name": "ipython",
    "version": 3
   },
   "file_extension": ".py",
   "mimetype": "text/x-python",
   "name": "python",
   "nbconvert_exporter": "python",
   "pygments_lexer": "ipython3",
   "version": "3.10.6"
  }
 },
 "nbformat": 4,
 "nbformat_minor": 5
}
